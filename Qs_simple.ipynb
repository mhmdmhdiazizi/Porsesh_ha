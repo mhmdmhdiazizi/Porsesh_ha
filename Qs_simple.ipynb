{
 "cells": [
  {
   "cell_type": "code",
   "execution_count": null,
   "id": "b3ce8383",
   "metadata": {},
   "outputs": [],
   "source": [
    "# video0.mp4 is the input video"
   ]
  },
  {
   "cell_type": "code",
   "execution_count": 5,
   "id": "3b4439ac",
   "metadata": {},
   "outputs": [],
   "source": [
    "import gizeh\n",
    "import moviepy.editor as mpy\n",
    "from bidi.algorithm import get_display\n",
    "from arabic_reshaper import reshape\n",
    "def make_frame(t):\n",
    "    width=920\n",
    "    height=920\n",
    "    surface = gizeh.Surface(width=width,height=height,bg_color=(0.9, 0.9, 0.9)) # width, height\n",
    "    text = gizeh.text(get_display(reshape('به نام خدا')), fontfamily=\"B Nazanin\",  fontsize=72, fill=(0.5,0.1,0.1),\n",
    "                      xy=(int(width/2),int(height/2)))\n",
    "    text.draw(surface)\n",
    "    return surface.get_npimage() # returns a 8-bit RGB array\n",
    "\n",
    "clip0 = mpy.VideoClip(make_frame, duration=1) # 1 seconds\n",
    "#clip0.write_gif(\"S0.gif\",fps=30)"
   ]
  },
  {
   "cell_type": "code",
   "execution_count": 4,
   "id": "a9df26d7",
   "metadata": {},
   "outputs": [
    {
     "name": "stdout",
     "output_type": "stream",
     "text": [
      "Moviepy - Building video S1.mp4.\n",
      "Moviepy - Writing video S1.mp4\n",
      "\n"
     ]
    },
    {
     "name": "stderr",
     "output_type": "stream",
     "text": [
      "                                                                                                                       "
     ]
    },
    {
     "name": "stdout",
     "output_type": "stream",
     "text": [
      "Moviepy - Done !\n",
      "Moviepy - video ready S1.mp4\n"
     ]
    },
    {
     "name": "stderr",
     "output_type": "stream",
     "text": [
      "\r"
     ]
    }
   ],
   "source": [
    "import gizeh\n",
    "import moviepy.editor as mpy\n",
    "from bidi.algorithm import get_display\n",
    "from arabic_reshaper import reshape\n",
    "\n",
    "labels = ['بر اثر آن چهار نفر پاداش مى يابند: پرسنده، گوينده، شنونده و دوستدار آنان.',\n",
    "          'پس، رحمت خدا بر شما، بپرسيد كه',\n",
    "          'دانش گنجينه هايى است و كليدهاى آنها پرسش است؛']\n",
    "labels.reverse()\n",
    "def make_frame(t):\n",
    "    width=920\n",
    "    height=920\n",
    "    surface = gizeh.Surface(width=width,height=height,bg_color=(0.9, 0.9, 0.9)) # width, height\n",
    "    text1 = gizeh.text(get_display(reshape(labels[0])), fontfamily=\"B Nazanin\",  fontsize=32, fill=(0.5,0.1,0.1),\n",
    "                                  xy=(int(width/2),int(height/2)-int(32*1.2)))\n",
    "    text1.draw(surface)\n",
    "    text2 = gizeh.text(get_display(reshape(labels[1])), fontfamily=\"B Nazanin\",  fontsize=32, fill=(0.5,0.1,0.1),\n",
    "                                  xy=(int(width/2),int(height/2)))\n",
    "    text2.draw(surface)\n",
    "    text3 = gizeh.text(get_display(reshape(labels[2])), fontfamily=\"B Nazanin\",  fontsize=32, fill=(0.5,0.1,0.1),\n",
    "                                  xy=(int(width/2),int(height/2)+int(32*1.2)))\n",
    "    text3.draw(surface)\n",
    "    return surface.get_npimage() # returns a 8-bit RGB array\n",
    "\n",
    "clip1 = mpy.VideoClip(make_frame, duration=5.9)\n",
    "clip1.write_videofile(\"S1.mp4\",fps=30)"
   ]
  },
  {
   "cell_type": "code",
   "execution_count": 8,
   "id": "2126f00f",
   "metadata": {},
   "outputs": [
    {
     "name": "stdout",
     "output_type": "stream",
     "text": [
      "MoviePy - Building file S2.gif with imageio.\n"
     ]
    },
    {
     "name": "stderr",
     "output_type": "stream",
     "text": [
      "                                                                                                                       \r"
     ]
    }
   ],
   "source": [
    "import gizeh\n",
    "import moviepy.editor as mpy\n",
    "from bidi.algorithm import get_display\n",
    "from arabic_reshaper import reshape\n",
    "width=920\n",
    "height=920\n",
    "surface = gizeh.Surface(width=width,height=height,bg_color=(0.9, 0.9, 0.9)) # width, height\n",
    "def make_frame(t):\n",
    "    if t <3:\n",
    "        fontsize=32\n",
    "        labels = ['دوست داری هزار سال عمر کنی؟','پرسش دوم']\n",
    "        labels.reverse()\n",
    "        text = gizeh.text(get_display(reshape(labels[int(t/1.5)])), fontfamily=\"B Nazanin\",  fontsize=fontsize,\n",
    "                          fill=(0.5,0.1,0.1), xy=(int(width/2),int(height/2-fontsize*1.5+int(t/1.5)*fontsize*1.5)))\n",
    "        text.draw(surface)\n",
    "    elif t>=3:\n",
    "        fontsize=28\n",
    "        labels = ['Would you like to live a thouand years?']\n",
    "        text = gizeh.text(labels[0], fontfamily=\"Times New Roman\",  fontsize=fontsize, fill=(0.5,0.1,0.1),xy=(int(width/2),int(height/2-fontsize*1.5+int(t/1.5)*fontsize*1.5)))\n",
    "        text.draw(surface)\n",
    "    return surface.get_npimage() # returns a 8-bit RGB array\n",
    "\n",
    "clip2 = mpy.VideoClip(make_frame, duration=4.4) \n",
    "clip2.write_gif(\"S2.gif\",fps=30)"
   ]
  },
  {
   "cell_type": "code",
   "execution_count": 9,
   "id": "2df3426c",
   "metadata": {},
   "outputs": [
    {
     "data": {
      "text/plain": [
       "(920, 517)"
      ]
     },
     "execution_count": 9,
     "metadata": {},
     "output_type": "execute_result"
    }
   ],
   "source": [
    "clip3 = mpy.VideoFileClip(\"video0.mp4\")\n",
    "clip3 = clip3.resize(width=width)\n",
    "clip3.size"
   ]
  },
  {
   "cell_type": "code",
   "execution_count": 10,
   "id": "d74fd0f8",
   "metadata": {},
   "outputs": [],
   "source": [
    "clipf1 = mpy.concatenate_videoclips([clip0, clip1, clip2])\n",
    "#clipf1.write_videofile(\"output_1.mp4\")"
   ]
  },
  {
   "cell_type": "code",
   "execution_count": 19,
   "id": "a40f7d52",
   "metadata": {},
   "outputs": [
    {
     "name": "stdout",
     "output_type": "stream",
     "text": [
      "Moviepy - Building video clipf2.mp4.\n",
      "MoviePy - Writing audio in clipf2TEMP_MPY_wvf_snd.mp3\n"
     ]
    },
    {
     "name": "stderr",
     "output_type": "stream",
     "text": [
      "                                                                                                                       \r"
     ]
    },
    {
     "name": "stdout",
     "output_type": "stream",
     "text": [
      "MoviePy - Done.\n",
      "Moviepy - Writing video clipf2.mp4\n",
      "\n"
     ]
    },
    {
     "name": "stderr",
     "output_type": "stream",
     "text": [
      "                                                                                                                       \r"
     ]
    },
    {
     "name": "stdout",
     "output_type": "stream",
     "text": [
      "Moviepy - Done !\n",
      "Moviepy - video ready clipf2.mp4\n"
     ]
    }
   ],
   "source": [
    "clipf2 = mpy.CompositeVideoClip(\n",
    "    [\n",
    "        clip3.set_position(\n",
    "            ('center', 'center')).fadeout(0.5)\n",
    "    ],\n",
    "    size=(width, height)).on_color(color=(230, 230, 230),col_opacity=1)\n",
    "clipf2.write_videofile('clipf2.mp4', fps=30)"
   ]
  },
  {
   "cell_type": "code",
   "execution_count": 20,
   "id": "143cb800",
   "metadata": {},
   "outputs": [
    {
     "name": "stdout",
     "output_type": "stream",
     "text": [
      "Moviepy - Building video video.mp4.\n",
      "MoviePy - Writing audio in videoTEMP_MPY_wvf_snd.mp3\n"
     ]
    },
    {
     "name": "stderr",
     "output_type": "stream",
     "text": [
      "                                                                                                                       \r"
     ]
    },
    {
     "name": "stdout",
     "output_type": "stream",
     "text": [
      "MoviePy - Done.\n",
      "Moviepy - Writing video video.mp4\n",
      "\n"
     ]
    },
    {
     "name": "stderr",
     "output_type": "stream",
     "text": [
      "                                                                                                                       \r"
     ]
    },
    {
     "name": "stdout",
     "output_type": "stream",
     "text": [
      "Moviepy - Done !\n",
      "Moviepy - video ready video.mp4\n"
     ]
    }
   ],
   "source": [
    "video = mpy.concatenate_videoclips([clipf1, clipf2])\n",
    "video.write_videofile('video.mp4', fps=30)"
   ]
  }
 ],
 "metadata": {
  "kernelspec": {
   "display_name": "Python 3 (ipykernel)",
   "language": "python",
   "name": "python3"
  },
  "language_info": {
   "codemirror_mode": {
    "name": "ipython",
    "version": 3
   },
   "file_extension": ".py",
   "mimetype": "text/x-python",
   "name": "python",
   "nbconvert_exporter": "python",
   "pygments_lexer": "ipython3",
   "version": "3.10.13"
  }
 },
 "nbformat": 4,
 "nbformat_minor": 5
}
