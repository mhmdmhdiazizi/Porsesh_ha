{
 "cells": [
  {
   "cell_type": "code",
   "execution_count": 15,
   "id": "921b2099",
   "metadata": {},
   "outputs": [
    {
     "name": "stdout",
     "output_type": "stream",
     "text": [
      "Collecting arabic-reshaper\n",
      "  Using cached arabic_reshaper-3.0.0-py3-none-any.whl (20 kB)\n",
      "Installing collected packages: arabic-reshaper\n",
      "Successfully installed arabic-reshaper-3.0.0\n"
     ]
    }
   ],
   "source": [
    "# !pip install gizeh\n",
    "# !pip install pipwin\n",
    "# !pipwin install cairocffi\n",
    "# !pip install moviepy\n",
    "# !pip install python-bidi\n",
    "# !pip install arabic-reshaper"
   ]
  },
  {
   "cell_type": "code",
   "execution_count": 14,
   "id": "d0252836",
   "metadata": {},
   "outputs": [
    {
     "name": "stdout",
     "output_type": "stream",
     "text": [
      "Collecting pysubs2\n",
      "  Downloading pysubs2-1.6.1-py3-none-any.whl (35 kB)\n",
      "Installing collected packages: pysubs2\n",
      "Successfully installed pysubs2-1.6.1\n"
     ]
    },
    {
     "name": "stderr",
     "output_type": "stream",
     "text": [
      "WARNING: Ignoring invalid distribution -illow (c:\\users\\lenovo\\anaconda3\\envs\\movie\\lib\\site-packages)\n",
      "WARNING: Ignoring invalid distribution -illow (c:\\users\\lenovo\\anaconda3\\envs\\movie\\lib\\site-packages)\n"
     ]
    }
   ],
   "source": [
    "# !pip uninstall Pillow\n",
    "# !pip install Pillow==9.5.0\n",
    "!pip install pysubs2"
   ]
  },
  {
   "cell_type": "code",
   "execution_count": 8,
   "id": "0387dda3",
   "metadata": {},
   "outputs": [],
   "source": [
    "import gizeh\n",
    "import moviepy.editor as mpy\n",
    "from bidi.algorithm import get_display\n",
    "from arabic_reshaper import reshape\n",
    "def make_frame(t):\n",
    "    width=920\n",
    "    height=920\n",
    "    surface = gizeh.Surface(width=width,height=height,bg_color=(0.9, 0.9, 0.9)) # width, height\n",
    "    text = gizeh.text(get_display(reshape('به نام خدا')), fontfamily=\"B Nazanin\",  fontsize=72, fill=(0.5,0.1,0.1),\n",
    "                      xy=(int(width/2),int(height/2)))\n",
    "    text.draw(surface)\n",
    "    return surface.get_npimage() # returns a 8-bit RGB array\n",
    "\n",
    "clip0 = mpy.VideoClip(make_frame, duration=1) # 1 seconds\n",
    "#clip0.write_gif(\"S0.gif\",fps=30)"
   ]
  },
  {
   "cell_type": "code",
   "execution_count": 9,
   "id": "bb128be9",
   "metadata": {},
   "outputs": [],
   "source": [
    "import gizeh\n",
    "import moviepy.editor as mpy\n",
    "from bidi.algorithm import get_display\n",
    "from arabic_reshaper import reshape\n",
    "\n",
    "labels = ['بر اثر آن چهار نفر پاداش مى يابند: پرسنده، گوينده، شنونده و دوستدار آنان.',\n",
    "          'پس، رحمت خدا بر شما، بپرسيد كه',\n",
    "          'دانش گنجينه هايى است و كليدهاى آنها پرسش است؛']\n",
    "labels.reverse()\n",
    "def make_frame(t):\n",
    "    width=920\n",
    "    height=920\n",
    "    surface = gizeh.Surface(width=width,height=height,bg_color=(0.9, 0.9, 0.9)) # width, height\n",
    "    text1 = gizeh.text(get_display(reshape(labels[0])), fontfamily=\"B Nazanin\",  fontsize=32, fill=(0.5,0.1,0.1),\n",
    "                                  xy=(int(width/2),int(height/2)-int(32*1.2)))\n",
    "    text1.draw(surface)\n",
    "    text2 = gizeh.text(get_display(reshape(labels[1])), fontfamily=\"B Nazanin\",  fontsize=32, fill=(0.5,0.1,0.1),\n",
    "                                  xy=(int(width/2),int(height/2)))\n",
    "    text2.draw(surface)\n",
    "    text3 = gizeh.text(get_display(reshape(labels[2])), fontfamily=\"B Nazanin\",  fontsize=32, fill=(0.5,0.1,0.1),\n",
    "                                  xy=(int(width/2),int(height/2)+int(32*1.2)))\n",
    "    text3.draw(surface)\n",
    "    return surface.get_npimage() # returns a 8-bit RGB array\n",
    "\n",
    "clip1 = mpy.VideoClip(make_frame, duration=5.9)\n",
    "#clip1.write_videofile(\"S1.mp4\",fps=30)"
   ]
  },
  {
   "cell_type": "code",
   "execution_count": 10,
   "id": "88303534",
   "metadata": {},
   "outputs": [
    {
     "name": "stdout",
     "output_type": "stream",
     "text": [
      "MoviePy - Building file S2.gif with imageio.\n"
     ]
    },
    {
     "name": "stderr",
     "output_type": "stream",
     "text": [
      "                                                                                                                       \r"
     ]
    }
   ],
   "source": [
    "import gizeh\n",
    "import moviepy.editor as mpy\n",
    "from bidi.algorithm import get_display\n",
    "from arabic_reshaper import reshape\n",
    "width=920\n",
    "height=920\n",
    "surface = gizeh.Surface(width=width,height=height,bg_color=(0.9, 0.9, 0.9)) # width, height\n",
    "def make_frame(t):\n",
    "    if t <3:\n",
    "        fontsize=32\n",
    "        labels = ['این‌کارا برای قهرمان بودنه؟','پرسش پنجم']\n",
    "        labels.reverse()\n",
    "        text = gizeh.text(get_display(reshape(labels[int(t/1.5)])), fontfamily=\"B Nazanin\",  fontsize=fontsize,\n",
    "                          fill=(0.5,0.1,0.1), xy=(int(width/2),int(height/2-fontsize*1.5+int(t/1.5)*fontsize*1.5)))\n",
    "        text.draw(surface)\n",
    "    elif t>=3:\n",
    "        fontsize=28\n",
    "        labels = ['Is this about being a hero?']\n",
    "        text = gizeh.text(labels[0], fontfamily=\"Times New Roman\",  fontsize=fontsize, fill=(0.5,0.1,0.1),xy=(int(width/2),int(height/2-fontsize*1.5+int(t/1.5)*fontsize*1.5)))\n",
    "        text.draw(surface)\n",
    "    return surface.get_npimage() # returns a 8-bit RGB array\n",
    "\n",
    "clip2 = mpy.VideoClip(make_frame, duration=4.4) \n",
    "clip2.write_gif(\"S2.gif\",fps=30)"
   ]
  },
  {
   "cell_type": "code",
   "execution_count": 11,
   "id": "c6858a50",
   "metadata": {},
   "outputs": [
    {
     "data": {
      "text/plain": [
       "(920, 514)"
      ]
     },
     "execution_count": 11,
     "metadata": {},
     "output_type": "execute_result"
    }
   ],
   "source": [
    "clip3 = mpy.VideoFileClip(\"video0.mkv\")\n",
    "clip3 = clip3.resize(width=width)\n",
    "clip3.size"
   ]
  },
  {
   "cell_type": "code",
   "execution_count": 12,
   "id": "a71d98dd",
   "metadata": {},
   "outputs": [],
   "source": [
    "clipf1 = mpy.concatenate_videoclips([clip0, clip1, clip2])\n",
    "#clipf1.write_videofile(\"output_1.mp4\")"
   ]
  },
  {
   "cell_type": "code",
   "execution_count": 15,
   "id": "46ec5bbd",
   "metadata": {},
   "outputs": [],
   "source": [
    "import pysubs2\n",
    "subs1 = pysubs2.load(\"srt1.srt\")"
   ]
  },
  {
   "cell_type": "code",
   "execution_count": 20,
   "id": "9869195f",
   "metadata": {},
   "outputs": [],
   "source": [
    "#"
   ]
  },
  {
   "cell_type": "code",
   "execution_count": 67,
   "id": "5a3ee056",
   "metadata": {},
   "outputs": [
    {
     "data": {
      "text/plain": [
       "13"
      ]
     },
     "execution_count": 67,
     "metadata": {},
     "output_type": "execute_result"
    }
   ],
   "source": [
    "s1 = subs1[635-1:647]\n",
    "def shift(subs, ms):\n",
    "    for line in subs:\n",
    "        line.start += ms\n",
    "        line.end += ms\n",
    "shift(s1, -s1[0].start+1500) #+11500)\n",
    "len(s1)"
   ]
  },
  {
   "cell_type": "code",
   "execution_count": 68,
   "id": "74da8cbd",
   "metadata": {
    "scrolled": true
   },
   "outputs": [],
   "source": [
    "def render_text_en(t):\n",
    "    l = -1\n",
    "    tms = t*1000\n",
    "    for i in range(len(s1)):\n",
    "        if tms >= s1[i].start and tms <= s1[i].end:\n",
    "            l = i\n",
    "    if l == -1:\n",
    "        surface = gizeh.Surface(width=width,height=int(height/10),bg_color=(0.9, 0.9, 0.9))\n",
    "    else:\n",
    "        surface = gizeh.Surface(width=width,height=int(height/10),bg_color=(0.9, 0.9, 0.9))\n",
    "        text = gizeh.text(s1[l].text.replace('\\\\N', ' '), fontfamily=\"Times New Roman\",\n",
    "                      fontsize=24, fill=(0,0,0), xy=(int(width/2), int(height/10/2)))\n",
    "        text.draw(surface)\n",
    "    return surface.get_npimage()\n",
    "clip4 = mpy.VideoClip(render_text_en, duration=s1[len(s1)-1].end/1000)\n",
    "#clip4.write_gif(\"S4.gif\",fps=30)"
   ]
  },
  {
   "cell_type": "code",
   "execution_count": 69,
   "id": "5871ffc9",
   "metadata": {},
   "outputs": [],
   "source": [
    "subs2 = pysubs2.load(\"srt2.srt\")"
   ]
  },
  {
   "cell_type": "code",
   "execution_count": 70,
   "id": "34c65642",
   "metadata": {},
   "outputs": [
    {
     "data": {
      "text/plain": [
       "<SSAEvent type=Dialogue start=0:32:41 end=0:32:43 text='\\u202bمجبوره تو رو جایگزین کنه.'>"
      ]
     },
     "execution_count": 70,
     "metadata": {},
     "output_type": "execute_result"
    }
   ],
   "source": [
    "subs2[507]"
   ]
  },
  {
   "cell_type": "code",
   "execution_count": 79,
   "id": "d1b0727a",
   "metadata": {},
   "outputs": [
    {
     "data": {
      "text/plain": [
       "8"
      ]
     },
     "execution_count": 79,
     "metadata": {},
     "output_type": "execute_result"
    }
   ],
   "source": [
    "s2 = subs2[501-1:508]\n",
    "shift(s2, -s2[0].start+8000-4500) #+11500+8000)\n",
    "len(s2)"
   ]
  },
  {
   "cell_type": "code",
   "execution_count": 80,
   "id": "48211f9c",
   "metadata": {},
   "outputs": [],
   "source": [
    "def render_text_fa(t):\n",
    "    l = -1\n",
    "    tms = t*1000\n",
    "    for i in range(len(s2)):\n",
    "        if tms >= s2[i].start and tms <= s2[i].end:\n",
    "            l = i\n",
    "    if l == -1:\n",
    "        surface = gizeh.Surface(width=width,height=int(height/10),bg_color=(0.9, 0.9, 0.9))\n",
    "    else:\n",
    "        surface = gizeh.Surface(width=width,height=int(height/10),bg_color=(0.9, 0.9, 0.9))\n",
    "        text = gizeh.text(get_display(reshape(s2[l].text.replace('\\\\N', '   '))), fontfamily=\"B Nazanin\",\n",
    "                      fontsize=28, fill=(0,0,0), xy=(int(width/2), int(height/10/2)))\n",
    "        text.draw(surface)\n",
    "    return surface.get_npimage()\n",
    "clip5 = mpy.VideoClip(render_text_fa, duration=s2[len(s2)-1].end/1000)\n",
    "#clip5.write_gif(\"S5.gif\",fps=1)"
   ]
  },
  {
   "cell_type": "code",
   "execution_count": 81,
   "id": "4b4ebc22",
   "metadata": {
    "scrolled": true
   },
   "outputs": [],
   "source": [
    "clipf2 = mpy.CompositeVideoClip(\n",
    "    [\n",
    "        clip3.set_position(\n",
    "            ('center', 'center')).fadeout(0.5),\n",
    "        clip4.set_position(\n",
    "            ('center', -clip3.size[1]/2+height/2-clip5.size[1]/2)),\n",
    "        clip5.set_position(\n",
    "            ('center', clip3.size[1]/2+height/2+clip5.size[1]/2))\n",
    "    ],\n",
    "    size=(width, height)).on_color(color=(230, 230, 230),col_opacity=1)\n",
    "#clipf2.write_videofile('clipf2.mp4', fps=1)"
   ]
  },
  {
   "cell_type": "code",
   "execution_count": 82,
   "id": "c3766cc5",
   "metadata": {
    "scrolled": true
   },
   "outputs": [
    {
     "name": "stdout",
     "output_type": "stream",
     "text": [
      "Moviepy - Building video video.mp4.\n",
      "MoviePy - Writing audio in videoTEMP_MPY_wvf_snd.mp3\n"
     ]
    },
    {
     "name": "stderr",
     "output_type": "stream",
     "text": [
      "                                                                                                                       \r"
     ]
    },
    {
     "name": "stdout",
     "output_type": "stream",
     "text": [
      "MoviePy - Done.\n",
      "Moviepy - Writing video video.mp4\n",
      "\n"
     ]
    },
    {
     "name": "stderr",
     "output_type": "stream",
     "text": [
      "                                                                                                                       \r"
     ]
    },
    {
     "name": "stdout",
     "output_type": "stream",
     "text": [
      "Moviepy - Done !\n",
      "Moviepy - video ready video.mp4\n"
     ]
    }
   ],
   "source": [
    "video = mpy.concatenate_videoclips([clipf1, clipf2])\n",
    "video.write_videofile('video.mp4', fps=30)"
   ]
  },
  {
   "cell_type": "code",
   "execution_count": null,
   "id": "89fe4884",
   "metadata": {},
   "outputs": [],
   "source": []
  },
  {
   "cell_type": "code",
   "execution_count": null,
   "id": "3b87dade",
   "metadata": {},
   "outputs": [],
   "source": []
  }
 ],
 "metadata": {
  "kernelspec": {
   "display_name": "Python 3 (ipykernel)",
   "language": "python",
   "name": "python3"
  },
  "language_info": {
   "codemirror_mode": {
    "name": "ipython",
    "version": 3
   },
   "file_extension": ".py",
   "mimetype": "text/x-python",
   "name": "python",
   "nbconvert_exporter": "python",
   "pygments_lexer": "ipython3",
   "version": "3.10.13"
  }
 },
 "nbformat": 4,
 "nbformat_minor": 5
}
